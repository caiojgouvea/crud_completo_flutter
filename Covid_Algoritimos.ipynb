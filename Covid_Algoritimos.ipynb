{
  "nbformat": 4,
  "nbformat_minor": 0,
  "metadata": {
    "colab": {
      "name": "Covid - Algoritimos.ipynb",
      "provenance": [],
      "collapsed_sections": [
        "fzyAiJ2GJvGX"
      ],
      "include_colab_link": true
    },
    "kernelspec": {
      "name": "python3",
      "display_name": "Python 3"
    },
    "language_info": {
      "name": "python"
    }
  },
  "cells": [
    {
      "cell_type": "markdown",
      "metadata": {
        "id": "view-in-github",
        "colab_type": "text"
      },
      "source": [
        "<a href=\"https://colab.research.google.com/github/caiojgouvea/crudCompletoFlutter/blob/main/Covid_Algoritimos.ipynb\" target=\"_parent\"><img src=\"https://colab.research.google.com/assets/colab-badge.svg\" alt=\"Open In Colab\"/></a>"
      ]
    },
    {
      "cell_type": "markdown",
      "metadata": {
        "id": "KAX0csEDEOV0"
      },
      "source": [
        "## Imports necessários"
      ]
    },
    {
      "cell_type": "code",
      "metadata": {
        "colab": {
          "base_uri": "https://localhost:8080/"
        },
        "id": "en8v5CDIAUCc",
        "outputId": "8b4139d7-3a3a-4559-ca33-e8a8ef14d44a"
      },
      "source": [
        "from google.colab import drive\n",
        "drive.mount('/content/drive')"
      ],
      "execution_count": null,
      "outputs": [
        {
          "output_type": "stream",
          "name": "stdout",
          "text": [
            "Mounted at /content/drive\n"
          ]
        }
      ]
    },
    {
      "cell_type": "code",
      "metadata": {
        "colab": {
          "base_uri": "https://localhost:8080/"
        },
        "id": "yB37CxhJ479w",
        "outputId": "bc63c79b-2ba1-4821-a39f-ad8d5a9c7c2f"
      },
      "source": [
        "from sklearn.ensemble import RandomForestRegressor\n",
        "from sklearn.ensemble import GradientBoostingRegressor\n",
        "# from sklearn.linear_model import LinearRegression\n",
        "# from sklearn import linear_model\n",
        "from sklearn.model_selection import train_test_split\n",
        "# from sklearn.metrics import mean_squared_error\n",
        "from fbprophet import Prophet\n",
        "# import matplotlib.pyplot as plt\n",
        "# import seaborn as sns\n",
        "import pandas as pd\n",
        "import numpy as np\n",
        "%pylab inline"
      ],
      "execution_count": null,
      "outputs": [
        {
          "output_type": "stream",
          "name": "stdout",
          "text": [
            "Populating the interactive namespace from numpy and matplotlib\n"
          ]
        }
      ]
    },
    {
      "cell_type": "code",
      "metadata": {
        "colab": {
          "base_uri": "https://localhost:8080/",
          "height": 313
        },
        "id": "Y9EssLxk7uSB",
        "outputId": "393012e1-653b-44ed-f314-0fb0ca3b4cd7"
      },
      "source": [
        "ds_covid_br = pd.read_csv(\"./drive/MyDrive/TCC - Anna, Caio, Igor/05 - Dataset/caso_full.csv\", delimiter=',')\n",
        "ds_covid_br.head()"
      ],
      "execution_count": null,
      "outputs": [
        {
          "output_type": "execute_result",
          "data": {
            "text/html": [
              "<div>\n",
              "<style scoped>\n",
              "    .dataframe tbody tr th:only-of-type {\n",
              "        vertical-align: middle;\n",
              "    }\n",
              "\n",
              "    .dataframe tbody tr th {\n",
              "        vertical-align: top;\n",
              "    }\n",
              "\n",
              "    .dataframe thead th {\n",
              "        text-align: right;\n",
              "    }\n",
              "</style>\n",
              "<table border=\"1\" class=\"dataframe\">\n",
              "  <thead>\n",
              "    <tr style=\"text-align: right;\">\n",
              "      <th></th>\n",
              "      <th>city</th>\n",
              "      <th>city_ibge_code</th>\n",
              "      <th>date</th>\n",
              "      <th>epidemiological_week</th>\n",
              "      <th>estimated_population</th>\n",
              "      <th>estimated_population_2019</th>\n",
              "      <th>is_last</th>\n",
              "      <th>is_repeated</th>\n",
              "      <th>last_available_confirmed</th>\n",
              "      <th>last_available_confirmed_per_100k_inhabitants</th>\n",
              "      <th>last_available_date</th>\n",
              "      <th>last_available_death_rate</th>\n",
              "      <th>last_available_deaths</th>\n",
              "      <th>order_for_place</th>\n",
              "      <th>place_type</th>\n",
              "      <th>state</th>\n",
              "      <th>new_confirmed</th>\n",
              "      <th>new_deaths</th>\n",
              "    </tr>\n",
              "  </thead>\n",
              "  <tbody>\n",
              "    <tr>\n",
              "      <th>0</th>\n",
              "      <td>Rio Branco</td>\n",
              "      <td>1200401.0</td>\n",
              "      <td>2020-03-17</td>\n",
              "      <td>202012</td>\n",
              "      <td>413418.0</td>\n",
              "      <td>407319.0</td>\n",
              "      <td>False</td>\n",
              "      <td>False</td>\n",
              "      <td>3</td>\n",
              "      <td>0.72566</td>\n",
              "      <td>2020-03-17</td>\n",
              "      <td>0.0</td>\n",
              "      <td>0</td>\n",
              "      <td>1</td>\n",
              "      <td>city</td>\n",
              "      <td>AC</td>\n",
              "      <td>3</td>\n",
              "      <td>0</td>\n",
              "    </tr>\n",
              "    <tr>\n",
              "      <th>1</th>\n",
              "      <td>NaN</td>\n",
              "      <td>12.0</td>\n",
              "      <td>2020-03-17</td>\n",
              "      <td>202012</td>\n",
              "      <td>894470.0</td>\n",
              "      <td>881935.0</td>\n",
              "      <td>False</td>\n",
              "      <td>False</td>\n",
              "      <td>3</td>\n",
              "      <td>0.33539</td>\n",
              "      <td>2020-03-17</td>\n",
              "      <td>0.0</td>\n",
              "      <td>0</td>\n",
              "      <td>1</td>\n",
              "      <td>state</td>\n",
              "      <td>AC</td>\n",
              "      <td>3</td>\n",
              "      <td>0</td>\n",
              "    </tr>\n",
              "    <tr>\n",
              "      <th>2</th>\n",
              "      <td>Rio Branco</td>\n",
              "      <td>1200401.0</td>\n",
              "      <td>2020-03-18</td>\n",
              "      <td>202012</td>\n",
              "      <td>413418.0</td>\n",
              "      <td>407319.0</td>\n",
              "      <td>False</td>\n",
              "      <td>False</td>\n",
              "      <td>3</td>\n",
              "      <td>0.72566</td>\n",
              "      <td>2020-03-18</td>\n",
              "      <td>0.0</td>\n",
              "      <td>0</td>\n",
              "      <td>2</td>\n",
              "      <td>city</td>\n",
              "      <td>AC</td>\n",
              "      <td>0</td>\n",
              "      <td>0</td>\n",
              "    </tr>\n",
              "    <tr>\n",
              "      <th>3</th>\n",
              "      <td>NaN</td>\n",
              "      <td>12.0</td>\n",
              "      <td>2020-03-18</td>\n",
              "      <td>202012</td>\n",
              "      <td>894470.0</td>\n",
              "      <td>881935.0</td>\n",
              "      <td>False</td>\n",
              "      <td>False</td>\n",
              "      <td>3</td>\n",
              "      <td>0.33539</td>\n",
              "      <td>2020-03-18</td>\n",
              "      <td>0.0</td>\n",
              "      <td>0</td>\n",
              "      <td>2</td>\n",
              "      <td>state</td>\n",
              "      <td>AC</td>\n",
              "      <td>0</td>\n",
              "      <td>0</td>\n",
              "    </tr>\n",
              "    <tr>\n",
              "      <th>4</th>\n",
              "      <td>Rio Branco</td>\n",
              "      <td>1200401.0</td>\n",
              "      <td>2020-03-19</td>\n",
              "      <td>202012</td>\n",
              "      <td>413418.0</td>\n",
              "      <td>407319.0</td>\n",
              "      <td>False</td>\n",
              "      <td>False</td>\n",
              "      <td>4</td>\n",
              "      <td>0.96754</td>\n",
              "      <td>2020-03-19</td>\n",
              "      <td>0.0</td>\n",
              "      <td>0</td>\n",
              "      <td>3</td>\n",
              "      <td>city</td>\n",
              "      <td>AC</td>\n",
              "      <td>1</td>\n",
              "      <td>0</td>\n",
              "    </tr>\n",
              "  </tbody>\n",
              "</table>\n",
              "</div>"
            ],
            "text/plain": [
              "         city  city_ibge_code        date  ...  state  new_confirmed  new_deaths\n",
              "0  Rio Branco       1200401.0  2020-03-17  ...     AC              3           0\n",
              "1         NaN            12.0  2020-03-17  ...     AC              3           0\n",
              "2  Rio Branco       1200401.0  2020-03-18  ...     AC              0           0\n",
              "3         NaN            12.0  2020-03-18  ...     AC              0           0\n",
              "4  Rio Branco       1200401.0  2020-03-19  ...     AC              1           0\n",
              "\n",
              "[5 rows x 18 columns]"
            ]
          },
          "metadata": {},
          "execution_count": 3
        }
      ]
    },
    {
      "cell_type": "code",
      "metadata": {
        "id": "fxcIRdP_7mpG"
      },
      "source": [
        "# Criar dataframe apenas com os dados de Goiás\n",
        "ds_estados = ds_covid_br.loc[ds_covid_br.place_type=='state',:]\n",
        "ds_estado_go = ds_estados.loc[ds_covid_br.state=='GO',:]\n",
        "ds_estado_go_casos = ds_estado_go.groupby('date').sum()['new_deaths'].reset_index()\n",
        "ds_estado_go_casos['date'] = pd.to_datetime(ds_estado_go_casos['date'])"
      ],
      "execution_count": null,
      "outputs": []
    },
    {
      "cell_type": "code",
      "metadata": {
        "id": "uvcixmdK5LEA"
      },
      "source": [
        "# Prever as novas mortes confirmadas\n",
        "attr = ['date']\n",
        "attr_prev = ['new_deaths']\n",
        "\n",
        "# Criando objetos\n",
        "X = ds_estado_go_casos[attr].values\n",
        "y = ds_estado_go_casos[attr_prev].values\n",
        "\n",
        "# Validação\n",
        "validate = 0.30\n",
        "\n",
        "# Criando dados de treino e validação\n",
        "X_treino, X_teste, y_treino, y_teste = train_test_split(X, y, test_size = validate)"
      ],
      "execution_count": null,
      "outputs": []
    },
    {
      "cell_type": "markdown",
      "metadata": {
        "id": "2dlSOlusHkon"
      },
      "source": [
        "# Utilizar o RandonForestRegressor para predizer quantas novas mortes teremos"
      ]
    },
    {
      "cell_type": "code",
      "metadata": {
        "id": "LWRUFny26BX_",
        "colab": {
          "base_uri": "https://localhost:8080/"
        },
        "outputId": "786f138f-6eae-4cbc-f522-f9e35bb7eb33"
      },
      "source": [
        "# Treinar o modelo\n",
        "modelo = RandomForestRegressor(n_estimators=1000, max_depth=30)\n",
        "modelo.fit(X_treino, y_treino.ravel())\n",
        "\n",
        "# Predizer o modelo\n",
        "predicao = modelo.predict(np.array(pd.to_datetime(['2020-07-07', '2020-07-08', '2020-07-09'])).reshape(-1,1))\n",
        "# print(predicao)\n",
        "modelo.score(X_treino, y_treino) * 100"
      ],
      "execution_count": null,
      "outputs": [
        {
          "output_type": "execute_result",
          "data": {
            "text/plain": [
              "88.36911399731683"
            ]
          },
          "metadata": {},
          "execution_count": 21
        }
      ]
    },
    {
      "cell_type": "markdown",
      "metadata": {
        "id": "Bap_-iucH9bu"
      },
      "source": [
        "# Utilizar o GradientBoostingRegressor para predizer quantas novas mortes teremos"
      ]
    },
    {
      "cell_type": "code",
      "metadata": {
        "colab": {
          "base_uri": "https://localhost:8080/"
        },
        "id": "K1gkUqRIQj8i",
        "outputId": "6000b5ab-779f-43ad-cb03-368f4c13772f"
      },
      "source": [
        "from sklearn.metrics import mean_squared_error\n",
        "\n",
        "modeloGradient = GradientBoostingRegressor(n_estimators=100, max_depth=20)\n",
        "modeloGradient.fit(X_treino, y_treino.ravel())\n",
        "\n",
        "resultado = modeloGradient.predict(np.array(pd.to_datetime(['2020-07-07', '2020-07-08', '2020-07-09'])).reshape(-1, 1))\n",
        "\n",
        "print(resultado)"
      ],
      "execution_count": null,
      "outputs": [
        {
          "output_type": "stream",
          "name": "stdout",
          "text": [
            "[33.00021355 46.99984169 46.99984169]\n"
          ]
        }
      ]
    },
    {
      "cell_type": "code",
      "metadata": {
        "id": "aFTFB8r8IDaY",
        "colab": {
          "base_uri": "https://localhost:8080/"
        },
        "outputId": "f939237d-cfa7-4640-d414-117a81e94298"
      },
      "source": [
        "# Treinar o modelo\n",
        "\n",
        "\n",
        "\n",
        "# Essemble do RandomForest\n",
        "modeloXGBoost = GradientBoostingRegressor(n_estimators=1000, max_depth=2)\n",
        "modeloXGBoost.fit(X_treino, y_treino.ravel())\n",
        "\n",
        "# Predizer o modelo\n",
        "predicao = modeloXGBoost.predict(np.array(pd.to_datetime(['2020-07-07', '2020-07-08', '2020-07-09'])).reshape(-1,1))\n",
        "# print(predicao)\n",
        "print(predicao)\n"
      ],
      "execution_count": null,
      "outputs": [
        {
          "output_type": "stream",
          "name": "stdout",
          "text": [
            "[31.60590034 31.60590034 31.60590034]\n"
          ]
        }
      ]
    },
    {
      "cell_type": "markdown",
      "metadata": {
        "id": "fzyAiJ2GJvGX"
      },
      "source": [
        "# Utilizar o LinearRegression para predizer quantas novas mortes teremos"
      ]
    },
    {
      "cell_type": "code",
      "metadata": {
        "id": "K3LEtCUJQYwH"
      },
      "source": [
        "# import datetime as dt\n",
        "\n",
        "# modeloLR = LinearRegression()\n",
        "# modeloLR.fit(X_treino, y_treino)\n",
        "\n",
        "# X_treino2 = pd.DataFrame(np.array(X_treino, dtype='datetime64[ns]'))\n",
        "# y_treino2 = pd.DataFrame(np.array(y_treino, dtype='datetime64[ns]'))\n",
        "\n",
        "# X_treino2.columns = [\"date\"]\n",
        "# X_treino2['date'] = pd.to_datetime(X_treino2['date'])\n",
        "# X_treino2['date'] = X_treino2['date'].map(dt.datetime.toordinal)\n",
        "\n",
        "# y_treino2.columns = [\"date\"]\n",
        "# y_treino2['date'] = pd.to_datetime(y_treino2['date'])\n",
        "# y_treino2['date'] = y_treino2['date'].map(dt.datetime.toordinal)\n",
        "\n",
        "# predicao = modeloLR.predict(pd.to_datetime(['2021-12-25']).map(dt.datetime.toordinal)[0].reshape(-1,1))\n",
        "\n",
        "# modeloLR.score(X_treino2, y_treino2)\n",
        "# print(predicao)"
      ],
      "execution_count": null,
      "outputs": []
    },
    {
      "cell_type": "markdown",
      "metadata": {
        "id": "HOJfyFiHi-mS"
      },
      "source": [
        "# Utilizar o Prophet\n",
        "## https://facebook.github.io/prophet/\n",
        "\n",
        "Fazer a implementação do Prophet\n",
        "\n",
        "Criar a API flask"
      ]
    },
    {
      "cell_type": "markdown",
      "metadata": {
        "id": "EJTlIqjap8PZ"
      },
      "source": [
        ""
      ]
    },
    {
      "cell_type": "code",
      "metadata": {
        "id": "7ecoW1y7jB61",
        "colab": {
          "base_uri": "https://localhost:8080/",
          "height": 206
        },
        "outputId": "c3d12377-8280-4f5b-c608-e152ebf26a87"
      },
      "source": [
        "# Criar modelo Prophet\n",
        "ds_estados = ds_covid_br.loc[ds_covid_br.place_type=='state',:]\n",
        "ds_estado_go = ds_estados.loc[ds_covid_br.state=='GO',:]\n",
        "ds_estado_go_casos = ds_estado_go.groupby('date').sum()['new_deaths'].reset_index()\n",
        "\n",
        "ds_estado_go_casos_previsao = ds_estado_go_casos\n",
        "ds_estado_go_casos_previsao.columns = ['ds', 'y']\n",
        "\n",
        "modeloPH = Prophet(yearly_seasonality = False, daily_seasonality = False)\n",
        "\n",
        "modeloPH.fit(ds_estado_go_casos_previsao)\n",
        "\n",
        "# Criar um dataframe futuro\n",
        "future = modeloPH.make_future_dataframe(60)\n",
        "\n",
        "# Prever os novos dados\n",
        "previsao = modeloPH.predict(future)\n",
        "\n",
        "# Apresentar apenas as ultimas 5 linhas\n",
        "previsao[['ds', 'yhat_lower', 'yhat', 'yhat_upper']].tail(5)"
      ],
      "execution_count": null,
      "outputs": [
        {
          "output_type": "execute_result",
          "data": {
            "text/html": [
              "<div>\n",
              "<style scoped>\n",
              "    .dataframe tbody tr th:only-of-type {\n",
              "        vertical-align: middle;\n",
              "    }\n",
              "\n",
              "    .dataframe tbody tr th {\n",
              "        vertical-align: top;\n",
              "    }\n",
              "\n",
              "    .dataframe thead th {\n",
              "        text-align: right;\n",
              "    }\n",
              "</style>\n",
              "<table border=\"1\" class=\"dataframe\">\n",
              "  <thead>\n",
              "    <tr style=\"text-align: right;\">\n",
              "      <th></th>\n",
              "      <th>ds</th>\n",
              "      <th>yhat_lower</th>\n",
              "      <th>yhat</th>\n",
              "      <th>yhat_upper</th>\n",
              "    </tr>\n",
              "  </thead>\n",
              "  <tbody>\n",
              "    <tr>\n",
              "      <th>628</th>\n",
              "      <td>2021-11-30</td>\n",
              "      <td>-6.249584</td>\n",
              "      <td>38.890240</td>\n",
              "      <td>86.343563</td>\n",
              "    </tr>\n",
              "    <tr>\n",
              "      <th>629</th>\n",
              "      <td>2021-12-01</td>\n",
              "      <td>-3.027717</td>\n",
              "      <td>42.050246</td>\n",
              "      <td>86.286517</td>\n",
              "    </tr>\n",
              "    <tr>\n",
              "      <th>630</th>\n",
              "      <td>2021-12-02</td>\n",
              "      <td>-2.882740</td>\n",
              "      <td>44.535312</td>\n",
              "      <td>90.627958</td>\n",
              "    </tr>\n",
              "    <tr>\n",
              "      <th>631</th>\n",
              "      <td>2021-12-03</td>\n",
              "      <td>-13.170311</td>\n",
              "      <td>35.243477</td>\n",
              "      <td>80.387684</td>\n",
              "    </tr>\n",
              "    <tr>\n",
              "      <th>632</th>\n",
              "      <td>2021-12-04</td>\n",
              "      <td>-35.907253</td>\n",
              "      <td>9.692721</td>\n",
              "      <td>56.236627</td>\n",
              "    </tr>\n",
              "  </tbody>\n",
              "</table>\n",
              "</div>"
            ],
            "text/plain": [
              "            ds  yhat_lower       yhat  yhat_upper\n",
              "628 2021-11-30   -6.249584  38.890240   86.343563\n",
              "629 2021-12-01   -3.027717  42.050246   86.286517\n",
              "630 2021-12-02   -2.882740  44.535312   90.627958\n",
              "631 2021-12-03  -13.170311  35.243477   80.387684\n",
              "632 2021-12-04  -35.907253   9.692721   56.236627"
            ]
          },
          "metadata": {},
          "execution_count": 77
        }
      ]
    },
    {
      "cell_type": "code",
      "metadata": {
        "colab": {
          "base_uri": "https://localhost:8080/"
        },
        "id": "HDk4Pv-EP2A3",
        "outputId": "1e7924a5-e5df-4107-d3f6-50cf90ce16ed"
      },
      "source": [
        "from pandas import DataFrame\n",
        "from pandas import to_datetime\n",
        "\n",
        "# Criar modelo Prophet\n",
        "ds_estados = ds_covid_br.loc[ds_covid_br.place_type=='state',:]\n",
        "ds_estado_go = ds_estados.loc[ds_covid_br.state=='GO',:]\n",
        "ds_estado_go_casos = ds_estado_go.groupby('date').sum()['new_deaths'].reset_index()\n",
        "\n",
        "ds_estado_go_casos_previsao = ds_estado_go_casos\n",
        "ds_estado_go_casos_previsao.columns = ['ds', 'y']\n",
        "\n",
        "modeloProphet = Prophet(yearly_seasonality = False, daily_seasonality = False)\n",
        "\n",
        "modeloProphet.fit(ds_estado_go_casos_previsao)\n",
        "\n",
        "# Criar um dataframe futuro\n",
        "future = ['2020-07-07', '2020-07-08', '2020-07-09']\n",
        "future = DataFrame(future)\n",
        "future.columns = ['ds']\n",
        "future['ds'] = to_datetime(future['ds'])\n",
        "\n",
        "# predicao = modeloXGBoost.predict(np.array(pd.to_datetime(['2020-07-07', '2020-07-08', '2020-07-09'])).reshape(-1,1))\n",
        "previsao = modeloProphet.predict(future)\n",
        "dados = previsao['yhat_upper'].to_numpy()\n",
        "print(previsao[['ds', 'yhat_lower', 'yhat', 'yhat_upper']])"
      ],
      "execution_count": null,
      "outputs": [
        {
          "output_type": "stream",
          "name": "stdout",
          "text": [
            "          ds  yhat_lower       yhat  yhat_upper\n",
            "0 2020-07-07  -22.009197  27.617996   74.196301\n",
            "1 2020-07-08  -19.126740  31.130809   76.970626\n",
            "2 2020-07-09  -10.832685  33.968683   82.679465\n"
          ]
        }
      ]
    },
    {
      "cell_type": "code",
      "metadata": {
        "id": "F3wqI9s1TdzH"
      },
      "source": [
        "import pickle\n",
        "\n",
        "filename = 'modeloGradient.pkl'\n",
        "pickle.dump(modeloGradient, open(filename, 'wb'))\n",
        "\n"
      ],
      "execution_count": null,
      "outputs": []
    },
    {
      "cell_type": "markdown",
      "metadata": {
        "id": "cW-SObnCl4pK"
      },
      "source": [
        ""
      ]
    },
    {
      "cell_type": "markdown",
      "metadata": {
        "id": "R66Sjp9RlwXB"
      },
      "source": [
        "# **Criar API**\n",
        "\n",
        "## Api para cada algoritimo\n",
        "\n",
        "https://medium.com/data-hackers/disponibilizando-o-seu-modelo-de-machine-learning-em-produ%C3%A7%C3%A3o-com-python-flask-e-docker-aa4c43c35b50"
      ]
    }
  ]
}